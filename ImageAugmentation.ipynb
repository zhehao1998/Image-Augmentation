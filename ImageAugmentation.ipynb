{
  "nbformat": 4,
  "nbformat_minor": 0,
  "metadata": {
    "colab": {
      "name": "ImageAugmentation.ipynb",
      "provenance": [],
      "collapsed_sections": []
    },
    "kernelspec": {
      "name": "python3",
      "display_name": "Python 3"
    },
    "language_info": {
      "name": "python"
    }
  },
  "cells": [
    {
      "cell_type": "markdown",
      "source": [
        "# Install and import relevant packages"
      ],
      "metadata": {
        "id": "No5tdY1RqQqT"
      }
    },
    {
      "cell_type": "code",
      "source": [
        "!pip install -U albumentations\n",
        "!pip install --upgrade opencv-python"
      ],
      "metadata": {
        "id": "JlwgDR4KqRVz"
      },
      "execution_count": null,
      "outputs": []
    },
    {
      "cell_type": "code",
      "source": [
        "import albumentations as A\n",
        "import cv2\n",
        "import time\n",
        "import random\n",
        "import numpy as np\n",
        "import matplotlib.pyplot as plt"
      ],
      "metadata": {
        "id": "XDMh_uptqWIf"
      },
      "execution_count": null,
      "outputs": []
    },
    {
      "cell_type": "markdown",
      "source": [
        "# Google Drive mounting"
      ],
      "metadata": {
        "id": "vQdZ0ln7qd3K"
      }
    },
    {
      "cell_type": "code",
      "source": [
        "# Note that Project folder in Google Drive is as follows:\n",
        "\n",
        "# Project\n",
        "\n",
        "# -- Old\n",
        "#    ∟ Image\n",
        "#    ∟ Mask\n",
        "\n",
        "# -- New \n",
        "#    ∟ Image\n",
        "#    ∟ Mask"
      ],
      "metadata": {
        "id": "mYOZAhhEsVvF"
      },
      "execution_count": null,
      "outputs": []
    },
    {
      "cell_type": "code",
      "source": [
        "# Gdrive mounting \n",
        "import sys, os\n",
        "if \"google.colab\" in sys.modules:\n",
        "  from google.colab import drive\n",
        "  drive.mount(\"/content/gdrive\")\n",
        "  path_to_file = '/content/gdrive/MyDrive/Project/'\n",
        "  os.chdir(path_to_file)\n",
        "  os.getcwd()\n",
        "  print(\"Finished mounting drive.\")"
      ],
      "metadata": {
        "colab": {
          "base_uri": "https://localhost:8080/"
        },
        "id": "YvU5ff2sr75w",
        "outputId": "0089a14d-1c47-4ede-d36a-e7bb18b318ba"
      },
      "execution_count": null,
      "outputs": [
        {
          "output_type": "stream",
          "name": "stdout",
          "text": [
            "Mounted at /content/gdrive\n",
            "Finished mounting drive.\n"
          ]
        }
      ]
    },
    {
      "cell_type": "markdown",
      "source": [
        "# Define pathways"
      ],
      "metadata": {
        "id": "CDDFC7BTtLBa"
      }
    },
    {
      "cell_type": "code",
      "source": [
        "old_dir = os.path.join(path_to_file, \"Old\")\n",
        "new_dir = os.path.join(path_to_file, \"New\")\n",
        "\n",
        "old_img = os.path.join(old_dir, \"Image\")\n",
        "old_mask = os.path.join(old_dir, \"Mask\")\n",
        "\n",
        "new_img = os.path.join(new_dir, \"Image\")\n",
        "new_mask = os.path.join(new_dir, \"Mask\")\n",
        "\n",
        "# print(old_img)\n",
        "# print(old_mask)\n",
        "# print(new_img)\n",
        "# print(new_mask)"
      ],
      "metadata": {
        "id": "a-BFWbRVtN1P"
      },
      "execution_count": null,
      "outputs": []
    },
    {
      "cell_type": "markdown",
      "source": [
        "# Transformation pipeline\n",
        "\n",
        "It is important to use only transformations that make sense. Vertical Flips and grid distortions should be used sparingly."
      ],
      "metadata": {
        "id": "bsWRIKVLr8z_"
      }
    },
    {
      "cell_type": "code",
      "execution_count": null,
      "metadata": {
        "id": "uOrIVcTGpAfs"
      },
      "outputs": [],
      "source": [
        "transform = A.Compose(\n",
        "    [\n",
        "        A.CLAHE(p=1),\n",
        "        A.Resize(width=480, height=480, p=1),\n",
        "        A.Perspective(p=0.2),\n",
        "        A.HorizontalFlip(p=0.5),\n",
        "        # A.VerticalFlip(p=0.5)\n",
        "        A.GaussNoise(p=0.2),\n",
        "     \n",
        "        A.OneOf([\n",
        "            A.ShiftScaleRotate(scale_limit=0.1, rotate_limit=0, shift_limit=0.1, p=0.5, border_mode=0),\n",
        "            A.RandomCrop(width=320, height=320),\n",
        "        ]),\n",
        "\n",
        "        A.OneOf([\n",
        "            A.RGBShift(10, 10, 10, p=0.5),\n",
        "            A.HueSaturationValue(p=0.5),\n",
        "            A.RandomGamma(p=0.5)\n",
        "        ]),\n",
        "\n",
        "        A.OneOf([\n",
        "            A.Sharpen(p=0.5),\n",
        "            A.MotionBlur(blur_limit=3, p=0.5),\n",
        "            A.Blur(blur_limit=3, p=0.5),\n",
        "            A.RandomFog(fog_coef_lower=0.05, fog_coef_upper=0.15, alpha_coef=0.1, p=0.5)\n",
        "        ])\n",
        "    ]\n",
        ")"
      ]
    },
    {
      "cell_type": "markdown",
      "source": [
        "# Generate augmented Images from seed images"
      ],
      "metadata": {
        "id": "XNVC4Vp3u2cU"
      }
    },
    {
      "cell_type": "code",
      "source": [
        "# Stores image and mask paths \n",
        "train_images_paths = []\n",
        "train_masks_paths = []\n",
        "\n",
        "for img in os.listdir(old_img):\n",
        "    train_images_paths.append(os.path.join(old_img, img))\n",
        "\n",
        "for msk in os.listdir(old_mask):\n",
        "    train_masks_paths.append(os.path.join(old_mask, msk))"
      ],
      "metadata": {
        "id": "qANr0W_pu2MW"
      },
      "execution_count": null,
      "outputs": []
    },
    {
      "cell_type": "code",
      "source": [
        "count = 1\n",
        "generate_multiplier = 5 # New dataset size = multiplier * old dataset size\n",
        "original_size = len(train_images_paths)\n",
        "generate_limit = original_size * generate_multiplier\n",
        "pad = len(str(generate_limit)) # Padding with 0 infront\n",
        "time_start = time.time()\n",
        "\n",
        "while count <= generate_limit:\n",
        "    number = random.randint(0, original_size-1)  # pick a random image & mask to generate\n",
        "    image_to_use = train_images_paths[number]\n",
        "    mask_to_use = train_masks_paths[number]\n",
        "\n",
        "    original_img = np.array(cv2.imread(image_to_use))\n",
        "    original_mask = np.array(cv2.imread(mask_to_use))\n",
        "\n",
        "    # Apply transformations\n",
        "    augmented = transform(image=original_img, mask=original_mask)\n",
        "    transformed_image = augmented[\"image\"]\n",
        "    transformed_mask = augmented[\"mask\"]\n",
        "\n",
        "    # Allow for easier numbering\n",
        "    padded_number = str(count).zfill(pad)\n",
        "\n",
        "    # Save to folder\n",
        "    new_image_path = \"{path}/im{number}.png\".format(path=new_img, number=padded_number)\n",
        "    new_mask_path = \"{path}/im{number}.png\".format(path=new_mask, number=padded_number)\n",
        "\n",
        "    cv2.imwrite(new_image_path, transformed_image)\n",
        "    cv2.imwrite(new_mask_path, transformed_mask)\n",
        "\n",
        "    print(\"Successfully generated augmented training image and mask {no1} using image index {no2}\".format(no1=padded_number, no2=number+1))\n",
        "    count += 1\n",
        "\n",
        "time_end = time.time() - time_start\n",
        "\n",
        "print(\"{no} augmented images and masks were generated and this took {sec:.2f}s\".format(no=generate_limit, sec=time_end))"
      ],
      "metadata": {
        "id": "dqXf-y4mvdp1"
      },
      "execution_count": null,
      "outputs": []
    },
    {
      "cell_type": "markdown",
      "source": [
        "# Visualize augmented images"
      ],
      "metadata": {
        "id": "owOkm-DswY02"
      }
    },
    {
      "cell_type": "code",
      "source": [
        "new_img_dir = os.listdir(new_img)\n",
        "new_mask_dir = os.listdir(new_mask)\n",
        "\n",
        "random_no = random.randint(0, len(new_img_dir)-1)\n",
        "display_img = plt.imread(os.path.join(new_img, new_img_dir[random_no]))\n",
        "display_mask = plt.imread(os.path.join(new_mask, new_mask_dir[random_no]))\n",
        "\n",
        "fig, axes = plt.subplots(ncols=2, sharex=True, sharey=True,\n",
        "                         figsize=(12, 8))\n",
        "\n",
        "axes[0].imshow(display_img, cmap=plt.cm.gray)\n",
        "axes[0].set_title('Augmented Image')\n",
        "\n",
        "axes[1].imshow(display_mask, cmap=plt.cm.gray)\n",
        "axes[1].set_title('Augmented Mask')\n",
        "\n",
        "for ax in axes:\n",
        "    ax.axis('off')\n",
        "\n",
        "plt.tight_layout()\n",
        "plt.show()"
      ],
      "metadata": {
        "id": "MjRxSlxZwb_I"
      },
      "execution_count": null,
      "outputs": []
    }
  ]
}