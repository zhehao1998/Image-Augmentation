{
 "cells": [
  {
   "cell_type": "code",
   "execution_count": 1,
   "id": "6b1ca2a2",
   "metadata": {},
   "outputs": [
    {
     "name": "stdout",
     "output_type": "stream",
     "text": [
      "Conversion to dataset completed\n"
     ]
    }
   ],
   "source": [
    "import labelme\n",
    "import os, sys\n",
    "\n",
    "path = \"C:/Users/...\" # json label folder\n",
    "dirs = os.listdir(path)\n",
    "\n",
    "limit = len(dirs)\n",
    "pad = len(str(limit))\n",
    "i=1\n",
    "\n",
    "for item in dirs:\n",
    "    if item.endswith(\".json\"):\n",
    "        if os.path.isfile(path+item):\n",
    "            padded = str(i).zfill(pad)\n",
    "            my_dest = \"C:/Users/...\" + \"im\"+padded # destination folder\n",
    "            os.system(\"mkdir \"+my_dest)\n",
    "            os.system(\"labelme_json_to_dataset \" + item + \" -o \" + my_dest)\n",
    "            i=i+1\n",
    "            \n",
    "print(\"Conversion to dataset completed\")"
   ]
  },
  {
   "cell_type": "code",
   "execution_count": null,
   "id": "fb0114a6",
   "metadata": {},
   "outputs": [],
   "source": []
  }
 ],
 "metadata": {
  "kernelspec": {
   "display_name": "Python 3",
   "language": "python",
   "name": "python3"
  },
  "language_info": {
   "codemirror_mode": {
    "name": "ipython",
    "version": 3
   },
   "file_extension": ".py",
   "mimetype": "text/x-python",
   "name": "python",
   "nbconvert_exporter": "python",
   "pygments_lexer": "ipython3",
   "version": "3.8.8"
  }
 },
 "nbformat": 4,
 "nbformat_minor": 5
}
