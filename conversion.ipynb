{
 "cells": [
  {
   "cell_type": "code",
   "execution_count": null,
   "id": "fd2ea756",
   "metadata": {},
   "outputs": [],
   "source": [
    "import labelme\n",
    "import os, sys\n",
    "\n",
    "# Change accordingly\n",
    "path = \"C:/Users/...\" # json labels folder in labelme format\n",
    "dirs = os.listdir(path)\n",
    "print(dirs)\n",
    "\n",
    "limit = len(dirs)\n",
    "pad = len(str(limit))\n",
    "i=1\n",
    "\n",
    "for item in dirs:\n",
    "    if item.endswith(\".json\"):\n",
    "        if os.path.isfile(path+item):\n",
    "            padded = str(i).zfill(pad)\n",
    "            my_dest = \"C:/Users/.../\" + \"im\"+padded # destination folder path\n",
    "            os.system(\"mkdir \"+my_dest)\n",
    "            os.system(\"labelme_json_to_dataset \" + item + \" -o \" + my_dest)\n",
    "            i=i+1http://localhost:8888/notebooks/conversion.ipynb#"
    "\n"
    "print("Conversion completed")"
   ]
  }
 ],
 "metadata": {
  "kernelspec": {
   "display_name": "Python 3",
   "language": "python",
   "name": "python3"
  },
  "language_info": {
   "codemirror_mode": {
    "name": "ipython",
    "version": 3
   },
   "file_extension": ".py",
   "mimetype": "text/x-python",
   "name": "python",
   "nbconvert_exporter": "python",
   "pygments_lexer": "ipython3",
   "version": "3.8.8"
  }
 },
 "nbformat": 4,
 "nbformat_minor": 5
}
